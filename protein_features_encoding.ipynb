{
 "cells": [
  {
   "cell_type": "markdown",
   "metadata": {},
   "source": [
    "# Targets / Proteins\n",
    "\n",
    "## Features"
   ]
  },
  {
   "cell_type": "code",
   "execution_count": null,
   "metadata": {},
   "outputs": [],
   "source": [
    "from propythia.protein.sequence import ReadSequence\n",
    "from propythia.protein.descriptors import ProteinDescritors\n",
    "from propythia.protein.encoding import Encoding\n",
    "import pandas as pd\n",
    "import numpy as np"
   ]
  },
  {
   "cell_type": "code",
   "execution_count": null,
   "metadata": {},
   "outputs": [],
   "source": [
    "df_binarized = pd.read_csv('KIBA_binarized.csv')\n",
    "df_binarized"
   ]
  },
  {
   "cell_type": "code",
   "execution_count": null,
   "metadata": {},
   "outputs": [],
   "source": [
    "# remove the Drugs_ID and Drug\n",
    "df_binarized = df_binarized.drop(['Drug_ID', 'Drug', 'Y'], axis=1)\n",
    "df_binarized = df_binarized.drop_duplicates(subset=['Target_ID'])\n",
    "df_binarized"
   ]
  },
  {
   "cell_type": "markdown",
   "metadata": {},
   "source": [
    "Generate descriptors for the proteins"
   ]
  },
  {
   "cell_type": "code",
   "execution_count": null,
   "metadata": {},
   "outputs": [],
   "source": [
    "read_seqs = ReadSequence()\n",
    "res = read_seqs.par_preprocessing(dataset= df_binarized, col = 'Target', B ='N', Z = 'Q', U = 'C', O = 'K', J = 'I', X = '')\n",
    "res"
   ]
  },
  {
   "cell_type": "code",
   "execution_count": null,
   "metadata": {},
   "outputs": [],
   "source": [
    "protein_descriptors = ProteinDescritors(dataset= res,  col= 'Target')\n",
    "protein_descriptors.dataset"
   ]
  },
  {
   "cell_type": "code",
   "execution_count": null,
   "metadata": {},
   "outputs": [],
   "source": [
    "protein_descriptors.get_all()"
   ]
  },
  {
   "cell_type": "code",
   "execution_count": null,
   "metadata": {},
   "outputs": [],
   "source": [
    "protein_descriptors.result"
   ]
  },
  {
   "cell_type": "code",
   "execution_count": null,
   "metadata": {},
   "outputs": [],
   "source": [
    "protein_descriptors.result.to_csv('protein_descriptors.csv', index = False)"
   ]
  },
  {
   "cell_type": "markdown",
   "metadata": {},
   "source": [
    "# Encoding"
   ]
  },
  {
   "cell_type": "code",
   "execution_count": null,
   "metadata": {},
   "outputs": [],
   "source": [
    "encode_df= Encoding(dataset= df_binarized ,  col= 'Target')\n",
    "encode_df.result"
   ]
  },
  {
   "cell_type": "markdown",
   "metadata": {},
   "source": [
    "One-Hot Encoding"
   ]
  },
  {
   "cell_type": "code",
   "execution_count": null,
   "metadata": {},
   "outputs": [],
   "source": [
    "hot_encoded = encode_df.get_hot_encoded()\n",
    "print(hot_encoded['One_hot_encoding'][0].shape)\n",
    "hot_encoded"
   ]
  },
  {
   "cell_type": "markdown",
   "metadata": {},
   "source": [
    "NLF Enconding -> Method that takes many physicochemical properties and transforms them using a Fisher Transform (similar to a PCA)\n",
    "        creating a smaller set of features that can describe the amino acid just as well.\n",
    "        There are 19 transformed features."
   ]
  },
  {
   "cell_type": "code",
   "execution_count": null,
   "metadata": {},
   "outputs": [],
   "source": [
    "nlf = encode_df.get_nlf()\n",
    "nlf"
   ]
  },
  {
   "cell_type": "markdown",
   "metadata": {},
   "source": [
    "Blosum"
   ]
  },
  {
   "cell_type": "code",
   "execution_count": null,
   "metadata": {},
   "outputs": [],
   "source": [
    "blosum = encode_df.get_blosum()\n",
    "print(np.array(blosum['blosum'][0]).shape)\n",
    "blosum"
   ]
  },
  {
   "cell_type": "markdown",
   "metadata": {},
   "source": [
    "one hot with padding - necessario? ver"
   ]
  },
  {
   "cell_type": "code",
   "execution_count": null,
   "metadata": {},
   "outputs": [],
   "source": [
    "res = encode_df.get_pad_and_hot_encoding(seq_len=300)\n",
    "print(len(res.iloc[0,1])) #padded sequence\n",
    "print(np.array(res.iloc[0,2]).shape) #one hot encoded sequence\n",
    "res"
   ]
  },
  {
   "cell_type": "code",
   "execution_count": null,
   "metadata": {},
   "outputs": [],
   "source": [
    "encode_df.result"
   ]
  },
  {
   "cell_type": "code",
   "execution_count": null,
   "metadata": {},
   "outputs": [],
   "source": [
    "encode_df.result.to_csv('protein_encoding.csv', index = False)"
   ]
  }
 ],
 "metadata": {
  "kernelspec": {
   "display_name": "mestrado_final",
   "language": "python",
   "name": "python3"
  },
  "language_info": {
   "codemirror_mode": {
    "name": "ipython",
    "version": 3
   },
   "file_extension": ".py",
   "mimetype": "text/x-python",
   "name": "python",
   "nbconvert_exporter": "python",
   "pygments_lexer": "ipython3",
   "version": "3.9.13"
  }
 },
 "nbformat": 4,
 "nbformat_minor": 2
}
